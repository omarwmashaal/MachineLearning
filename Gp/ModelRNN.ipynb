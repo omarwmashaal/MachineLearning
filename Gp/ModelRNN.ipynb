{
  "nbformat": 4,
  "nbformat_minor": 0,
  "metadata": {
    "colab": {
      "name": "Untitled7.ipynb",
      "provenance": [],
      "authorship_tag": "ABX9TyNytsWXwwqZ9Drr30wh4GS8",
      "include_colab_link": true
    },
    "kernelspec": {
      "name": "python3",
      "display_name": "Python 3"
    }
  },
  "cells": [
    {
      "cell_type": "markdown",
      "metadata": {
        "id": "view-in-github",
        "colab_type": "text"
      },
      "source": [
        "<a href=\"https://colab.research.google.com/github/omarwmashaal/MachineLearning/blob/master/Gp/ModelRNN.ipynb\" target=\"_parent\"><img src=\"https://colab.research.google.com/assets/colab-badge.svg\" alt=\"Open In Colab\"/></a>"
      ]
    },
    {
      "cell_type": "code",
      "metadata": {
        "id": "Nd3g92v-2Ws5",
        "colab_type": "code",
        "colab": {}
      },
      "source": [
        "this si a change"
      ],
      "execution_count": 0,
      "outputs": []
    }
  ]
}